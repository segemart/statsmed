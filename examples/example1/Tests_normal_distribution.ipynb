{
 "cells": [
  {
   "cell_type": "markdown",
   "metadata": {},
   "source": [
    "### Example 1 - Test for normal distribution"
   ]
  },
  {
   "cell_type": "markdown",
   "metadata": {},
   "source": [
    "### 1.1 What to do?\n",
    "First of all we need data. For example load the exemplary data from example 1 (ex1.csv) of synthetic height and age data.\n",
    "Now the goal is to test if these data are normal distributed.\n",
    "We will do this by applying the statsmed.stdnorm_test() test to the input data.\n",
    "Apperently for the height data the tests do not indicate a significant difference from a normal distribution, but \n",
    "for the age data the Shapiro-Wilk-Test is significant for no normal distribution.\n",
    "\n",
    "For comparision, height data were generated with an underlying normal distribution and age data by a beta distribution.\n",
    "\n",
    "If applied to your own data please be careful with possible NaN or None values in your data.\n",
    "\n",
    "Output of the statsmed.stdnorm_test() is an array with:\\\n",
    "&emsp;0 if both tests do not indicate a significant difference from a normal distribution and 1 if at least ones does,\\\n",
    "&emsp;0 if Shapiro-Wilk-Test does not indicate a significant difference from a normal distribution and 1 if does,\\\n",
    "&emsp;0 if Kolmogorow-Smirnow-Test does not indicate a significant difference from a normal distribution and 1 if does,\\\n",
    "&emsp;Test-statistic of Shapiro-Wilk-Test,\\\n",
    "&emsp;p-value of Shapiro-Wilk-Test,\\\n",
    "&emsp;test-statistic of Kolmogorow-Smirnow-Test,\\\n",
    "&emsp;p-value of Kolmogorow-Smirnow-Test\\\n",
    "This allows you do multiple tests and save the results in a new array."
   ]
  },
  {
   "cell_type": "code",
   "execution_count": 4,
   "metadata": {},
   "outputs": [
    {
     "name": "stdout",
     "output_type": "stream",
     "text": [
      "    Unnamed: 0  height   age\n",
      "0            0    1.69  82.0\n",
      "1            1    1.74  68.0\n",
      "2            2    1.73  72.0\n",
      "3            3    1.78  52.0\n",
      "4            4    1.82  27.0\n",
      "..         ...     ...   ...\n",
      "95          95    1.84  22.0\n",
      "96          96    1.83  44.0\n",
      "97          97    1.65  27.0\n",
      "98          98    1.88  45.0\n",
      "99          99    1.71  20.0\n",
      "\n",
      "[100 rows x 3 columns]\n",
      "Testing normal distribution of height data:\n",
      "Shapiro-Wilk: Normal dsitribution (p-value = 0.80 \n",
      " \t - p-value >= 0.05 indicates no significant difference from normal distribution)\n",
      "Kolmogorow-Smirnow: Normal dsitribution (p-value = 0.85 \n",
      " \t - p-value >= 0.05 indicates no significant difference from normal distribution)\n",
      "Both tests do not indicate a significant difference from a normal distribution\n",
      "[0, 0, 0, 0.9916924834251404, 0.7985291481018066, 0.05967461548666875, 0.8474435848949414]\n",
      "\n",
      "\n",
      "Testing normal distribution of age data:\n",
      "Shapiro-Wilk: No normal dsitribution (p-value = 0.0031)\n",
      "Kolmogorow-Smirnow: Normal dsitribution (p-value = 0.40 \n",
      " \t - p-value >= 0.05 indicates no significant difference from normal distribution)\n",
      "At least one test indicates no normal distribution\n",
      "[1, 1, 0, 0.9584461450576782, 0.0031206237617880106, 0.08786010212056183, 0.39988684297781185]\n"
     ]
    }
   ],
   "source": [
    "import pandas\n",
    "from statsmed import statsmed\n",
    "data = pandas.read_csv('ex1.csv',delimiter=',',on_bad_lines='skip')\n",
    "\n",
    "print(data)\n",
    "\n",
    "print('Testing normal distribution of height data:')\n",
    "print(statsmed.stdnorm_test(data['height']))\n",
    "print('\\n')\n",
    "print('Testing normal distribution of age data:')\n",
    "print(statsmed.stdnorm_test(data['age']))"
   ]
  },
  {
   "cell_type": "markdown",
   "metadata": {},
   "source": [
    "### 1.2 What to write?\n",
    "\n",
    "In the statistical analysis section of a manuscript you may write:\n",
    "\"Normality was verified by quantification using Shapiro-Wilk test.\", \"Normality was verified by quantification using Kolmogorov-Smirnov test.\" or \"Normality was verified by quantification using Shapiro-Wilk test and Kolmogorov-Smirnov test. If one test demonstrated significant no normal distribution, normal distribution of the data was rejected.\" depending on what you used."
   ]
  },
  {
   "cell_type": "markdown",
   "metadata": {},
   "source": [
    "### 1.3 Explanation\n",
    "A normal distribution is an assumption for multiple tests like the student's t-test. Thus, we need to verify if the data is normal distributed. Therefore, the above described test can be used. A normal distribution has a bell-like shape see figure below for a normal probability distribution with variance 1:\\\n",
    "<img src=\"norm_pdf.png\" alt=\"nlp\" width=\"350\"/>\\\n",
    "If your data are normal distributed, the histogram of the normalized data (subtract mean and divide by standard deviation) should be close to the bell-like shape. Like in the following histogram:\\\n",
    "<img src=\"norm_hist.png\" alt=\"nlp\" width=\"350\"/>\\\n",
    "If the data is not normal distributed it should have a different shape.\\\n",
    "Both, the Shapiro-Wilk-Test and Kolmogorow-Smirnow-Test cannot confirm a normal distribution but they can tell you if it is significant not a normal distribution and you should reject the assumption of a normal distribution.\n",
    "\n"
   ]
  }
 ],
 "metadata": {
  "kernelspec": {
   "display_name": "base",
   "language": "python",
   "name": "python3"
  },
  "language_info": {
   "codemirror_mode": {
    "name": "ipython",
    "version": 3
   },
   "file_extension": ".py",
   "mimetype": "text/x-python",
   "name": "python",
   "nbconvert_exporter": "python",
   "pygments_lexer": "ipython3",
   "version": "3.8.8"
  }
 },
 "nbformat": 4,
 "nbformat_minor": 2
}
