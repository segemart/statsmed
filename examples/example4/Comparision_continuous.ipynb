{
 "cells": [
  {
   "cell_type": "markdown",
   "metadata": {},
   "source": [
    "### Example 4 - Comparison of two groups with continuous variables"
   ]
  },
  {
   "cell_type": "markdown",
   "metadata": {},
   "source": [
    "### 2.1 What to do?\n",
    "Next we will compare two groups of exemplary continuous data from the TotalSegmentator training dataset. Therefore load the exemplary data (ex4.csv) containing the age, gender and some volume and attenuation data from the segmented TotalSegmentator training dataset (same as in example 3). Now the goal is to compare two groups within the given data.\n",
    "\n",
    "The function statsmed.comp_two_gr_continuous(), allows you to compare two input data with continuous variables. It requires as input the continuois data (x and y, that you want to compare) (please exclude NaN or None values), if the input data are independet (True) or dependent/related (False), the alternative {two-sided, less, greater}, the number of decimals it should return (if not given assumes 2), the mode and the number of decimals for the p value (if not given assumes 3).\n",
    "The output depends on mode:\n",
    "- if mode = = 'all' the function prints results of T-test for the means of two independent and dependent/related samples, Mann-Whitney U-Test of two independent samples and Wilcoxon signed-rank test of two dependent/related samples\n",
    "- if mode = normal distribution - dependent on independent value the function prints results of T-test for the means of two independent or dependent/related samples\n",
    " - if mode = no normal distribution - dependent on independent value the function prints results of Mann-Whitney U-Test of two independent samples or Wilcoxon signed-rank test of two dependent/related samples\n",
    "- if something else is given the respective output depends on whether the data is normal distributed or not normal distributed due to statsmed.stdnorm_test()\n",
    "- the output for each line of the output: t-value rounded to number of given decimals; p-value rounded to number of decimals for significant p values;\n",
    "- the given lines depend on the mode\n",
    "\n",
    "If applied to your own data please be careful with possible NaN or None values in your data.\n",
    "\n",
    "The exemplary data (same as in example 3) contains: sex, age, kidney_right_volume, kidney_left_volume, pancreas_volume, hip_left_intensity, hip_right_intensity, iliopsoas_left_volume, iliopsoas_right_volume, aorta_volume. Whereas Volumes are given in $mm^3$.\n",
    "\n",
    "As already reported lot of volumes of the respective structure are zero, because the respective scan of the trainings dataset did not include this structure. Therefore we want to exclude these data. So let us use 10 ml as a lower cut-off. Moreover we want to report the volume in ml and $1 ml = 1000 mm^3$, so we need to divide the current value by 1000 (this has no effect on p-values).\n",
    "\n",
    "So let us compare the volumes of the left and right kidney. The volume should be continuous."
   ]
  },
  {
   "cell_type": "code",
   "execution_count": 2,
   "metadata": {},
   "outputs": [
    {
     "name": "stdout",
     "output_type": "stream",
     "text": [
      "      Unnamed: 0 sex  age  kidney_right_volume  kidney_left_volume   \n",
      "0              0   M   79           203708.250          184464.000  \\\n",
      "1              1   M   71           191288.250          181892.250   \n",
      "2              2   M   66           125469.000          116474.625   \n",
      "3              3   F   74           131415.750          118827.000   \n",
      "4              4   M   85                0.000               0.000   \n",
      "...          ...  ..  ...                  ...                 ...   \n",
      "1085        1085   F   64                0.000               0.000   \n",
      "1086        1086   M   81           171065.226          183714.724   \n",
      "1087        1087   M   86           167487.750          186030.000   \n",
      "1088        1088   M   65           192024.000          136856.250   \n",
      "1089        1089   M   67                0.000               0.000   \n",
      "\n",
      "      pancreas_volume  hip_left_intensity  hip_right_intensity   \n",
      "0           72383.625               0.000                0.000  \\\n",
      "1          103372.875             345.938              356.846   \n",
      "2           61178.625             479.402              489.692   \n",
      "3           60078.375             249.837              241.206   \n",
      "4               0.000               0.000                0.000   \n",
      "...               ...                 ...                  ...   \n",
      "1085            0.000               0.000                0.000   \n",
      "1086        55700.992             343.050              339.109   \n",
      "1087       110379.375             321.428              319.090   \n",
      "1088        19423.125               0.000                0.000   \n",
      "1089            0.000               0.000                0.000   \n",
      "\n",
      "      iliopsoas_left_volume  iliopsoas_right_volume  aorta_volume  \n",
      "0                     0.000                   0.000    298447.875  \n",
      "1                321121.125              293385.375    750974.625  \n",
      "2                326787.750              329305.500    228811.500  \n",
      "3                354736.125              334111.500         0.000  \n",
      "4                     0.000                   0.000         0.000  \n",
      "...                     ...                     ...           ...  \n",
      "1085                  0.000                   0.000         0.000  \n",
      "1086             273459.336              267441.712     62707.491  \n",
      "1087             283901.625              253577.250         0.000  \n",
      "1088                  0.000                   0.000         0.000  \n",
      "1089                  0.000                   0.000    137369.231  \n",
      "\n",
      "[1090 rows x 11 columns]\n",
      "      kidney_right_volume  kidney_left_volume\n",
      "0              203.708250          184.464000\n",
      "1              191.288250          181.892250\n",
      "2              125.469000          116.474625\n",
      "3              131.415750          118.827000\n",
      "5               67.878000           84.017250\n",
      "...                   ...                 ...\n",
      "1083           185.895000          156.566250\n",
      "1084           195.520500          203.485500\n",
      "1086           171.065226          183.714724\n",
      "1087           167.487750          186.030000\n",
      "1088           192.024000          136.856250\n",
      "\n",
      "[440 rows x 2 columns]\n",
      "Testing normal distribution of x-data:\n",
      "Shapiro-Wilk: No normal dsitribution (p-value = p < 0.001)\n",
      "Kolmogorow-Smirnow: Normal dsitribution (p-value = p = 0.21 \n",
      " \t - p-value >= 0.05 indicates no significant difference from normal distribution)\n",
      "At least one test indicates no normal distribution\n",
      "Descriptive Statistic of the x-data with all returns:\n",
      "The mean with standard deviation is: 151.42 ± 48.54\n",
      "The mean with 95%-confidence interval is: 151.42 (CI: 146.86 - 155.97)\n",
      "The median with interquartile range (IQR) from the 25th to 75th percentile is: 146.00 (IQR: 120.62 - 180.12)\n",
      "The pseudomedian with 95%-confidence interval from the signed-rank distribution is: 149.61 (CI: 145.38 - 153.95)\n",
      "\n",
      "\n",
      "Testing normal distribution of y-data:\n",
      "Shapiro-Wilk: No normal dsitribution (p-value = p < 0.001)\n",
      "Kolmogorow-Smirnow: No normal dsitribution (p-value = p = 0.028)\n",
      "At least one test indicates no normal distribution\n",
      "Descriptive Statistic of the y-data with all returns:\n",
      "The mean with standard deviation is: 153.89 ± 53.91\n",
      "The mean with 95%-confidence interval is: 153.89 (CI: 148.83 - 158.95)\n",
      "The median with interquartile range (IQR) from the 25th to 75th percentile is: 149.79 (IQR: 123.44 - 181.94)\n",
      "The pseudomedian with 95%-confidence interval from the signed-rank distribution is: 151.44 (CI: 147.04 - 155.91)\n",
      "\n",
      "\n",
      "Wilcoxon signed-rank test of two dependent/related samples yields a p-value: p = 0.001 (t-value: 39904.00)\n"
     ]
    },
    {
     "data": {
      "text/plain": [
       "array([3.9904e+04, 1.0000e-03])"
      ]
     },
     "execution_count": 2,
     "metadata": {},
     "output_type": "execute_result"
    }
   ],
   "source": [
    "import pandas\n",
    "import numpy as np\n",
    "from statsmed import statsmed\n",
    "data = pandas.read_csv('ex4.csv',delimiter=',',on_bad_lines='skip')\n",
    "\n",
    "print(data)\n",
    "\n",
    "new_data = data[['kidney_right_volume','kidney_left_volume']][(data['kidney_right_volume'] > 10) & (data['kidney_left_volume'] > 10)]/1000\n",
    "print(new_data)\n",
    "\n",
    "statsmed.comp_two_gr_continuous(new_data['kidney_right_volume'],new_data['kidney_left_volume'],independent=False)\n"
   ]
  },
  {
   "cell_type": "markdown",
   "metadata": {},
   "source": [
    "The left and right kidney are always in the same patient, thus the x- and y-data are dependent or related. Also, at least one of the x- or y-data is not normally distributed. Therefore a Wilcoxon signed-rank test is performed. As default we used \"two-sided\" for the hypothesis testing (less or greater would be the other possibilities).\n",
    "\n",
    "We may now state: Within a patient there is a difference in the volume of the left and right kidney (p = 0.001). "
   ]
  },
  {
   "cell_type": "code",
   "execution_count": 3,
   "metadata": {},
   "outputs": [
    {
     "name": "stdout",
     "output_type": "stream",
     "text": [
      "The median with interquartile range (IQR) from the 25th to 75th percentile is: -3.72 (IQR: -14.89 - 9.61)\n",
      "The pseudomedian with 95%-confidence interval from the signed-rank distribution is: -3.16 (CI: -5.05 - -1.27)\n"
     ]
    },
    {
     "data": {
      "text/plain": [
       "array([[ -3.72, -14.89,   9.61],\n",
       "       [ -3.16,  -5.05,  -1.27]])"
      ]
     },
     "execution_count": 3,
     "metadata": {},
     "output_type": "execute_result"
    }
   ],
   "source": [
    "statsmed.get_desc(new_data['kidney_right_volume']-new_data['kidney_left_volume'])"
   ]
  },
  {
   "cell_type": "markdown",
   "metadata": {},
   "source": [
    "From this calculation we see that the left kidney appears to be larger than the right one from the segmentations.\n",
    "\n",
    "Next let us test if there is a difference in the volume of the Aorta in patients with an age over 60 compared to patients with an age below or eqal 60. These data are not related, thus the x- and y-data are independent."
   ]
  },
  {
   "cell_type": "code",
   "execution_count": 4,
   "metadata": {},
   "outputs": [
    {
     "name": "stdout",
     "output_type": "stream",
     "text": [
      "Testing normal distribution of x-data:\n",
      "Shapiro-Wilk: No normal dsitribution (p-value = p < 0.001)\n",
      "Kolmogorow-Smirnow: No normal dsitribution (p-value = p < 0.001)\n",
      "At least one test indicates no normal distribution\n",
      "Descriptive Statistic of the x-data with all returns:\n",
      "The mean with standard deviation is: 264 ± 134\n",
      "The mean with 95%-confidence interval is: 264 (CI: 248 - 281)\n",
      "The median with interquartile range (IQR) from the 25th to 75th percentile is: 268 (IQR: 201 - 314)\n",
      "The pseudomedian with 95%-confidence interval from the signed-rank distribution is: 261 (CI: 248 - 273)\n",
      "\n",
      "\n",
      "Testing normal distribution of y-data:\n",
      "Shapiro-Wilk: No normal dsitribution (p-value = p = 0.044)\n",
      "Kolmogorow-Smirnow: Normal dsitribution (p-value = p = 0.49 \n",
      " \t - p-value >= 0.05 indicates no significant difference from normal distribution)\n",
      "At least one test indicates no normal distribution\n",
      "Descriptive Statistic of the y-data with all returns:\n",
      "The mean with standard deviation is: 152 ± 79\n",
      "The mean with 95%-confidence interval is: 152 (CI: 133 - 170)\n",
      "The median with interquartile range (IQR) from the 25th to 75th percentile is: 166 (IQR: 107 - 192)\n",
      "The pseudomedian with 95%-confidence interval from the signed-rank distribution is: 154 (CI: 134 - 170)\n",
      "\n",
      "\n",
      "Mann-Whitney U-Test of two independent samples yields a p-value of: p < 0.001 (t-value: 14416)\n"
     ]
    },
    {
     "data": {
      "text/plain": [
       "array([14416.,     0.])"
      ]
     },
     "execution_count": 4,
     "metadata": {},
     "output_type": "execute_result"
    }
   ],
   "source": [
    "new_data = data[['age','aorta_volume']][data['aorta_volume'] >= 10]\n",
    "new_data = new_data.reset_index()\n",
    "\n",
    "statsmed.comp_two_gr_continuous(new_data['aorta_volume'][np.where(new_data['age'] > 60)[0]]/1000,new_data['aorta_volume'][np.where(new_data['age'] <= 60)[0]]/1000,independent=True,N_of_decimals = 0)\n"
   ]
  },
  {
   "cell_type": "markdown",
   "metadata": {},
   "source": [
    "We see that there is a significant difference with an p-value < 0.001 for two-tailed hypothesis testing. So, we may say that the volume of the Aorta with patients > 60 years 268 ml (IQR: 201 - 314 ml) is larger compared to patients with an age below or equal 60 years 166 ml (IQR: 107 - 192 ml; p < 0.001).\n",
    "\n",
    "In case of a normal distribution of x- and y-data the function performes a t-test with independent or dependent/related samples respectively.\n",
    "\n",
    "If the mode='all' is given, both test a t-test with independent samples and a Mann-Whitney U-Test is performed or a t-test with dependent/related samples and Wilcoxon signed-rank test dependent on wether the data is related or not, is performed."
   ]
  },
  {
   "cell_type": "code",
   "execution_count": 5,
   "metadata": {},
   "outputs": [
    {
     "name": "stdout",
     "output_type": "stream",
     "text": [
      "Testing normal distribution of x-data:\n",
      "Shapiro-Wilk: No normal dsitribution (p-value = p < 0.001)\n",
      "Kolmogorow-Smirnow: No normal dsitribution (p-value = p < 0.001)\n",
      "At least one test indicates no normal distribution\n",
      "Descriptive Statistic of the x-data with all returns:\n",
      "The mean with standard deviation is: 264 ± 134\n",
      "The mean with 95%-confidence interval is: 264 (CI: 248 - 281)\n",
      "The median with interquartile range (IQR) from the 25th to 75th percentile is: 268 (IQR: 201 - 314)\n",
      "The pseudomedian with 95%-confidence interval from the signed-rank distribution is: 261 (CI: 248 - 273)\n",
      "\n",
      "\n",
      "Testing normal distribution of y-data:\n",
      "Shapiro-Wilk: No normal dsitribution (p-value = p = 0.044)\n",
      "Kolmogorow-Smirnow: Normal dsitribution (p-value = p = 0.49 \n",
      " \t - p-value >= 0.05 indicates no significant difference from normal distribution)\n",
      "At least one test indicates no normal distribution\n",
      "Descriptive Statistic of the y-data with all returns:\n",
      "The mean with standard deviation is: 152 ± 79\n",
      "The mean with 95%-confidence interval is: 152 (CI: 133 - 170)\n",
      "The median with interquartile range (IQR) from the 25th to 75th percentile is: 166 (IQR: 107 - 192)\n",
      "The pseudomedian with 95%-confidence interval from the signed-rank distribution is: 154 (CI: 134 - 170)\n",
      "\n",
      "\n",
      "T-test for the means of two independent samples yields a p-value of: p < 0.001 (t-value: 7)\n",
      "Mann-Whitney U-Test of two independent samples yields a p-value of: p < 0.001 (t-value: 14416)\n"
     ]
    },
    {
     "data": {
      "text/plain": [
       "array([[7.0000e+00, 0.0000e+00],\n",
       "       [1.4416e+04, 0.0000e+00]])"
      ]
     },
     "execution_count": 5,
     "metadata": {},
     "output_type": "execute_result"
    }
   ],
   "source": [
    "statsmed.comp_two_gr_continuous(new_data['aorta_volume'][np.where(new_data['age'] > 60)[0]]/1000,new_data['aorta_volume'][np.where(new_data['age'] <= 60)[0]]/1000,independent=True,N_of_decimals = 0,mode='all')"
   ]
  },
  {
   "cell_type": "markdown",
   "metadata": {},
   "source": [
    "### 2.2 What to write?\n",
    "\n",
    "In the statistical analysis section of a manuscript you may write for unpaired groups:\n",
    "\n",
    "\"Comparison between unpaired groups was performed for continuous variables using a two-tailed Student’s t-test or a Mann-Whitney U-test depending on normality.\"\n",
    "\n",
    "For paired groups you may write: \"Comparison between paired groups was performed for continuous variables using a two-tailed t-test or a Wilcoxon signed-rank test depending on normality.\"\n",
    "\n",
    "Additionally you may add: \"Hypothesis testing was two-tailed. All P-values <0.05 were considered statistically significant.\"\n",
    "\n",
    "In the results section of the manuscript you can now give the respective p-values.\n"
   ]
  }
 ],
 "metadata": {
  "kernelspec": {
   "display_name": "base",
   "language": "python",
   "name": "python3"
  },
  "language_info": {
   "codemirror_mode": {
    "name": "ipython",
    "version": 3
   },
   "file_extension": ".py",
   "mimetype": "text/x-python",
   "name": "python",
   "nbconvert_exporter": "python",
   "pygments_lexer": "ipython3",
   "version": "3.8.8"
  }
 },
 "nbformat": 4,
 "nbformat_minor": 2
}
