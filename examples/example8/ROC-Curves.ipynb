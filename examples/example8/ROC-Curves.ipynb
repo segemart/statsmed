{
 "cells": [
  {
   "cell_type": "markdown",
   "metadata": {},
   "source": [
    "### Example 8 Accurarcy, Sensitivity and others"
   ]
  },
  {
   "cell_type": "markdown",
   "metadata": {},
   "source": [
    "### 2.1 What to do?\n",
    "Next we will create Bland-Altman plots exemplary data from the TotalSegmentator training dataset comparing volume measurements by two readers for some structures. Therefore load the exemplary data (ex5.csv). Now the goal is to create Bland-Altman plots.\n",
    "\n",
    "The function statsmed.bland_altman_plot(), allows you to make these plots in a fast way. It requires as input the data (x and y, that you want to compare) (please exclude NaN or None values), the figure, the title, label of x-axis, label of y-axis.\n",
    "\n",
    "If applied to your own data please be careful with possible NaN or None values in your data.\n",
    "\n",
    "The exemplary data contains: two measurements of volume from reader 1 (R1) and reader 2 (R2) from the left and right kidney, iliopsoas and from the aorta. Whereas Volumes are given in $mm^3$.\n",
    "\n",
    "Again, we want to exclude the data where the volume is zero, using 10 ml as a lower cut-off and we want to report the volume in ml, so we need to divide the current value by 1000 .\n",
    "\n",
    "So let us compare the volumes from R1 with R2 of the right kidney."
   ]
  },
  {
   "cell_type": "code",
   "execution_count": 1,
   "metadata": {},
   "outputs": [
    {
     "data": {
      "image/png": "[encoded data removed]",
      "text/plain": [
       "<Figure size 640x480 with 1 Axes>"
      ]
     },
     "metadata": {},
     "output_type": "display_data"
    }
   ],
   "source": [
    "import pandas\n",
    "import numpy as np\n",
    "from statsmed import statsmed\n",
    "data = pandas.read_csv('ex5.csv',delimiter=',',on_bad_lines='skip')\n",
    "\n",
    "data['TrueGroup'] = (data['kidney_right_volume_R2'] > np.mean(data['kidney_right_volume_R2'])).astype(int)\n",
    "\n"
   ]
  },
  {
   "cell_type": "code",
   "execution_count": 2,
   "metadata": {},
   "outputs": [
    {
     "name": "stdout",
     "output_type": "stream",
     "text": [
      "Evaluation parameter is not indicated by ones and zeros\n",
      "Size of total population: 1204\n",
      "Number of positives: 508\n",
      "Number of negatives: 696\n",
      "Number of predicted positives: 0\n",
      "Number of predicted negatives: 677\n",
      "Number of true positives: 0\n",
      "Number of true negatives: 662\n",
      "Number of false positives: 0\n",
      "Number of false negatives: 15\n",
      "Prevalence: 42.19% (CI: 39.43% - 45.00%)\n",
      "Accuaracy: 54.98% (CI: 52.16% - 57.77%)\n",
      "Positive Predictive Value / Precision (PPV) cannot be calculated as the number of predicted positives is zero\n",
      "Negative Predictive Value (NPV): 97.78% (CI: 96.38% - 98.65%)\n",
      "False Omission Rate (FOR): 2.22% (CI: 1.35% - 3.62%)\n",
      "False Discovery Rate (FDR) cannot be calculated as the number of predicted positives is zero\n",
      "Problem with False Discovery Rate (FDR)\n",
      "True Positive Rate / Sensitivity / Recall (TPR): 0.00% (CI: 0.00% - 0.75%)\n",
      "True Negative Rate / Spezificity (TNR): 95.11% (CI: 93.25% - 96.48%)\n",
      "False Positive Rate (FPR): 0.00% (CI: 0.00% - 0.55%)\n",
      "False Negative Rate (FNR): 2.95% (CI: 1.80% - 4.81%)\n",
      "Problem with True Positive Rate\n",
      "Problem with True Negative Rate\n",
      "Problem with False Positive Rate\n",
      "Problem with False Negative Rate\n",
      "Informedness / Youden's J statistic: -0.05\n",
      "Prevalence threshold cannot be calculated as the True Positive Rate / Sensitivity / Recall (TPR) or the False Positive Rate (FPR) cannot be calculated\n",
      "Prevalence threshold: nan\n",
      "Balanced accuracy: 47.56%\n",
      "F1 score cannot be calculated as the True Positive Rate / Sensitivity / Recall (TPR) or the Positive Predictive Value / Precision (PPV) cannot be calculated\n",
      "Problem with F1 score\n",
      "F1 score: nan\n",
      "Positive likelihood ratio score cannot be calculated as the True Positive Rate / Sensitivity / Recall (TPR) or the False Positive Rate (FPR) cannot be calculated\n",
      "Positive likelihood ratio: nan\n",
      "Negative likelihood ratio: 0.03\n",
      "Diagnostics Odds Ratio (DOR) cannot be calculated as the positive or negative likelihood ratio cannot be calculated\n",
      "Diagnostics Odds Ratio (DOR): nan\n",
      "Jaccard Index: 0.00\n"
     ]
    },
    {
     "data": {
      "text/plain": [
       "array([ 1.204e+03,  5.080e+02,  6.960e+02,  0.000e+00,  6.770e+02,\n",
       "        0.000e+00,  6.620e+02,  0.000e+00,  1.500e+01,  4.200e-01,\n",
       "        5.500e-01,        nan,  9.800e-01,  2.000e-02,        nan,\n",
       "        0.000e+00,  9.500e-01,  0.000e+00,  3.000e-02, -5.000e-02,\n",
       "              nan,  4.800e-01,        nan,        nan,  3.000e-02,\n",
       "              nan,  0.000e+00])"
      ]
     },
     "execution_count": 2,
     "metadata": {},
     "output_type": "execute_result"
    }
   ],
   "source": [
    "\n",
    "statsmed.acc_sens(data['TrueGroup'],data['kidney_left_volume_R1'])\n",
    "\n"
   ]
  },
  {
   "cell_type": "code",
   "execution_count": 3,
   "metadata": {},
   "outputs": [],
   "source": [
    "import pickle\n",
    "\n",
    "from pathlib import Path\n",
    "\n",
    "results_dir = Path(\"/Users/martinsegeroth/Documents/everywhere/Projekte/total_segmentator/AndrewLiverProjekt/Data\")\n",
    "\n",
    "# 6 cols: TP, FP, TN, FN, DICE, VOL_DIFF\n",
    "stats_ctmr, res_per_lesion_ctmr = pickle.load(open(results_dir / f\"stats_model_ct.pkl\", \"rb\"))\n",
    "stats_ct, res_per_lesion_ct = pickle.load(open(results_dir / f\"stats_model_T590_ct.pkl\", \"rb\"))\n"
   ]
  },
  {
   "cell_type": "code",
   "execution_count": 8,
   "metadata": {},
   "outputs": [
    {
     "name": "stdout",
     "output_type": "stream",
     "text": [
      "46 46\n",
      "------------ Sensitivity ------------\n",
      "Size of total population: 176\n",
      "Number of positives: 152\n",
      "Number of negatives: 24\n",
      "Number of predicted positives: 139\n",
      "Number of predicted negatives: 37\n",
      "Number of true positives: 115\n",
      "Number of true negatives: 0\n",
      "Number of false positives: 24\n",
      "Number of false negatives: 37\n",
      "Prevalence: 86.3636% (CI: 81.2937% - 91.4336%)\n",
      "Accuaracy: 65.3409% (CI: 58.3103% - 72.3715%)\n",
      "Positive Predictive Value / Precision (PPV): 82.7338% (CI: 76.4506% - 89.0170%)\n",
      "Negative Predictive Value (NPV): 0.0000% (CI: 0.0000% - 0.0000%)\n",
      "False Omission Rate (FOR): 100.0000% (CI: 100.0000% - 100.0000%)\n",
      "False Discovery Rate (FDR): 17.2662% (CI: 10.9830% - 23.5494%)\n",
      "True Positive Rate / Sensitivity / Recall (TPR): 75.6579% (CI: 68.8356% - 82.4802%)\n",
      "True Negative Rate / Spezificity (TNR): 0.0000% (CI: 0.0000% - 0.0000%)\n",
      "False Positive Rate (FPR): 100.0000% (CI: 100.0000% - 100.0000%)\n",
      "False Negative Rate (FNR): 24.3421% (CI: 17.5198% - 31.1644%)\n",
      "Informedness / Youden's J statistic: -0.2434\n",
      "Prevalence threshold: 0.5348\n",
      "Balanced accuracy: 37.8289%\n",
      "F1 score: 0.7904\n",
      "Positive likelihood ratio: 0.7566\n",
      "Negative likelihood ratio score cannot be calculated as the True Negative Rate / Spezificity (TNR) or the False Negative Rate (FNR) cannot be calculated\n",
      "Negative likelihood ratio: nan\n",
      "Diagnostics Odds Ratio (DOR) cannot be calculated as the positive or negative likelihood ratio cannot be calculated\n",
      "Diagnostics Odds Ratio (DOR): nan\n",
      "Jaccard Index: 0.6534\n"
     ]
    }
   ],
   "source": [
    "stats_ctmr = np.array(stats_ctmr)\n",
    "stats_ct = np.array(stats_ct)\n",
    "res_per_lesion_ctmr = np.array(res_per_lesion_ctmr)\n",
    "res_per_lesion_ct = np.array(res_per_lesion_ct)\n",
    "\n",
    "print(len(stats_ctmr), len(stats_ct))\n",
    "\n",
    "# Sensitivity CI\n",
    "print(\"------------ Sensitivity ------------\")\n",
    "r = statsmed.acc_sens(res_per_lesion_ctmr[:, 0], res_per_lesion_ctmr[:, 1],\n",
    "                        method=\"normal\", quiet=False, N_of_decimals=4)\n",
    "#print(f\"Sensitivity pval: {r[1][1]}\")"
   ]
  },
  {
   "cell_type": "code",
   "execution_count": null,
   "metadata": {},
   "outputs": [
    {
     "name": "stdout",
     "output_type": "stream",
     "text": [
      "[900 860] [1000 1000]\n"
     ]
    }
   ],
   "source": []
  },
  {
   "cell_type": "markdown",
   "metadata": {},
   "source": [
    "So we created a Bland–Altman plot for the right kidney comparing R1 and R2, with the mean of the R1 and R2 on the x-axis and the value difference between R1 and R2 on the y-axis. The dashed blue line represents the bias between the two scanners with the upper and lower dashed red lines representing the upper and lower limits of agreement calculated through mean $\\pm$ 1.96 SD. The light blue background represents the standard error of the bias and the light red backgrounds the standard error of the limits of agreement.\n",
    "\n",
    "Let us make more plots..."
   ]
  },
  {
   "cell_type": "markdown",
   "metadata": {},
   "source": [
    "### 2.2 What to write?\n",
    "\n",
    "In the statistical analysis section of a manuscript you may write:\n",
    "\n",
    "\"For each reader, we compared the volumes of the anatomic structures using Bland–Altman analysis.\"\n",
    "\n",
    "In the figure legends, where you used Bland-Altman plots, you may write:\n",
    "\n",
    "\"Bland–Altman plots for volumes of anatomical structures, with the mean of R1 and R2 on the x-axis and the value difference between R1 and R2 on the y-axis. The dashed blue line represents the bias between the two scanners with the upper and lower dashed red lines representing the upper and lower limits of agreement calculated through mean $\\pm$ 1.96 SD. The light blue background represents the standard error of the bias and the light red backgrounds the standard error of the limits of agreement.\"\n"
   ]
  }
 ],
 "metadata": {
  "kernelspec": {
   "display_name": "Python 3",
   "language": "python",
   "name": "python3"
  },
  "language_info": {
   "codemirror_mode": {
    "name": "ipython",
    "version": 3
   },
   "file_extension": ".py",
   "mimetype": "text/x-python",
   "name": "python",
   "nbconvert_exporter": "python",
   "pygments_lexer": "ipython3",
   "version": "3.12.9"
  }
 },
 "nbformat": 4,
 "nbformat_minor": 2
}
