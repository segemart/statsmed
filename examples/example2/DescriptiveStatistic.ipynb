{
 "cells": [
  {
   "cell_type": "markdown",
   "metadata": {},
   "source": [
    "### Example 2 - Descriptive Statistic - Mean; Confidence Interval - Median; Inter-quartile range"
   ]
  },
  {
   "cell_type": "markdown",
   "metadata": {},
   "source": [
    "### 2.1 What to do?\n",
    "For example load the exemplary data from example 2 (ex2.csv) of synthetic height and age data.\n",
    "Now the goal is to calculate  the mean with standard deviation or confidence interval, the median with inter-quartile range or the pseudomedian with confidence interval based on the signed-rank distribution. To give them as descriptive statistics.\n",
    "\n",
    "The function statsmed.get_desc() requires as input the data (please exclude NaN or None values) the number of decimals it should return and the mode.\n",
    "The output depends on mode:\\\n",
    "&emsp;&emsp;if mode = 'all' the function prints mean with standard deviation and confidence interval\\\n",
    "&emsp;&emsp;&emsp;&emsp;as well as median with inter-quartile range and pseudomedian with confidence interval of the signed-rank distribution\\\n",
    "&emsp;&emsp;if mode = 'normal distribution' - only the mean with standard deviation and confidence interval is given\\\n",
    "&emsp;&emsp;if mode = 'no normal distribution' - median with inter-quartile range and pseudomedian with confidence interval of the\\\n",
    "&emsp;&emsp;&emsp;&emsp;signed-rank distribution is returned\\\n",
    "&emsp;&emsp;if something else is given the respective output depends on whether  the data is normal distributed due to stdnorm_test\\\n",
    "&emsp;&emsp;the output is rounded to the number of given decimals\\\n",
    "&emsp;&emsp;the function also returns a numpy array containing all values depending on mode\n",
    "\n",
    "\n",
    "If applied to your own data please be careful with possible NaN or None values in your data."
   ]
  },
  {
   "cell_type": "code",
   "execution_count": 3,
   "metadata": {},
   "outputs": [
    {
     "name": "stdout",
     "output_type": "stream",
     "text": [
      "Descriptive Statistic of the height-data with two decimals and all returns:\n",
      "Shapiro-Wilk: Normal dsitribution (p-value = 0.80 \n",
      " \t - p-value >= 0.05 indicates no significant difference from normal distribution)\n",
      "Kolmogorow-Smirnow: Normal dsitribution (p-value = 0.85 \n",
      " \t - p-value >= 0.05 indicates no significant difference from normal distribution)\n",
      "Both tests do not indicate a significant difference from a normal distribution\n",
      "The mean with standard deviation is: 1.78 ± 0.06\n",
      "The mean with 95%-confidence interval is: 1.78 (CI: 1.77 - 1.79)\n",
      "The median with interquartile range (IQR) from the 25th to 75th percentile is: 1.78 (IQR: 1.74 - 1.82)\n",
      "The pseudomedian with 95%-confidence interval from the signed-rank distribution is: 1.78 (CI: 1.77 - 1.79)\n",
      "[[1.78 0.06  nan]\n",
      " [1.78 1.77 1.79]\n",
      " [1.78 1.74 1.82]\n",
      " [1.78 1.77 1.79]]\n"
     ]
    }
   ],
   "source": [
    "import pandas\n",
    "from statsmed import statsmed\n",
    "data = pandas.read_csv('ex2.csv',delimiter=',',on_bad_lines='skip')\n",
    "\n",
    "print('Descriptive Statistic of the height-data with two decimals and all returns:')\n",
    "print(statsmed.get_desc(data['height'],2,'all'))"
   ]
  },
  {
   "cell_type": "markdown",
   "metadata": {},
   "source": [
    "If you just want mean and standard deviation and confidence interval or median with inter-quartile range and pseudomedian with confidence interval of the signed-rank distribution is returned, just do not give the mode parameter."
   ]
  },
  {
   "cell_type": "code",
   "execution_count": 6,
   "metadata": {},
   "outputs": [
    {
     "name": "stdout",
     "output_type": "stream",
     "text": [
      "Descriptive Statistic of the height-data with two decimals and distribution specific returns:\n",
      "Shapiro-Wilk: Normal dsitribution (p-value = 0.80 \n",
      " \t - p-value >= 0.05 indicates no significant difference from normal distribution)\n",
      "Kolmogorow-Smirnow: Normal dsitribution (p-value = 0.85 \n",
      " \t - p-value >= 0.05 indicates no significant difference from normal distribution)\n",
      "Both tests do not indicate a significant difference from a normal distribution\n",
      "The mean with standard deviation is: 1.78 ± 0.06\n",
      "The mean with 95%-confidence interval is: 1.78 (CI: 1.77 - 1.79)\n",
      "[[1.78 0.06  nan]\n",
      " [1.78 1.77 1.79]]\n",
      "\n",
      "Descriptive Statistic of the age-data with zero decimals and distribution specific returns:\n",
      "Shapiro-Wilk: No normal dsitribution (p-value = 0.0031)\n",
      "Kolmogorow-Smirnow: Normal dsitribution (p-value = 0.40 \n",
      " \t - p-value >= 0.05 indicates no significant difference from normal distribution)\n",
      "At least one test indicates no normal distribution\n",
      "The median with interquartile range (IQR) from the 25th to 75th percentile is: 44 (IQR: 33 - 59)\n",
      "The pseudomedian with 95%-confidence interval from the signed-rank distribution is: 47 (CI: 43 - 51)\n",
      "[[44. 33. 59.]\n",
      " [47. 43. 51.]]\n"
     ]
    }
   ],
   "source": [
    "import pandas\n",
    "from statsmed import statsmed\n",
    "data = pandas.read_csv('ex2.csv',delimiter=',',on_bad_lines='skip')\n",
    "\n",
    "print('Descriptive Statistic of the height-data with two decimals and distribution specific returns:')\n",
    "print(statsmed.get_desc(data['height'],2))\n",
    "print()\n",
    "print('Descriptive Statistic of the age-data with zero decimals and distribution specific returns:')\n",
    "print(statsmed.get_desc(data['age'],0))"
   ]
  },
  {
   "cell_type": "markdown",
   "metadata": {},
   "source": [
    "If you have tested significant difference to a normal distribution (for example by using statsmed.stdnorm_test()), you can also give the mode parameters: 'normal distribution' or 'no normal distribution'.\\\n",
    "You can also use these parameters directly if that is advantageous for you."
   ]
  },
  {
   "cell_type": "markdown",
   "metadata": {},
   "source": [
    "### 2.2 What to write?\n",
    "\n",
    "In the statistical analysis section of a manuscript you may write:\n",
    "\n",
    "\"Continuous variables were reported as mean +/− standard deviation (SD) when normally distributed and as medians (interquartile range (IQR)) otherwise.\"\\\n",
    "or \"Continuous variables were reported as mean (95%-confidence interval (CI)) when normally distributed and as pseudomedian (95%-confidence interval (CI)) otherwise.\"\n",
    "\n",
    "In the results section of the manuscript you can now give the respective values.\n",
    "\n"
   ]
  }
 ],
 "metadata": {
  "kernelspec": {
   "display_name": "base",
   "language": "python",
   "name": "python3"
  },
  "language_info": {
   "codemirror_mode": {
    "name": "ipython",
    "version": 3
   },
   "file_extension": ".py",
   "mimetype": "text/x-python",
   "name": "python",
   "nbconvert_exporter": "python",
   "pygments_lexer": "ipython3",
   "version": "3.8.8"
  }
 },
 "nbformat": 4,
 "nbformat_minor": 2
}
